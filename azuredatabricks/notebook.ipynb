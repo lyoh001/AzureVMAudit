{
 "cells": [
  {
   "cell_type": "code",
   "execution_count": null,
   "metadata": {
    "application/vnd.databricks.v1+cell": {
     "cellMetadata": {
      "byteLimit": 2048000,
      "rowLimit": 10000
     },
     "inputWidgets": {},
     "nuid": "d6007878-bc4a-465a-b414-375185d76d9b",
     "showTitle": false,
     "title": ""
    }
   },
   "outputs": [],
   "source": [
    "%pip install azure.storage.blob"
   ]
  },
  {
   "cell_type": "code",
   "execution_count": null,
   "metadata": {
    "application/vnd.databricks.v1+cell": {
     "cellMetadata": {
      "byteLimit": 2048000,
      "rowLimit": 10000
     },
     "inputWidgets": {},
     "nuid": "d07fb1e4-92da-40ec-95f1-80d51f54f92f",
     "showTitle": false,
     "title": ""
    }
   },
   "outputs": [],
   "source": [
    "import io\n",
    "import numpy as np\n",
    "import pandas as pd\n",
    "from azure.storage.blob import BlobServiceClient\n",
    "\n",
    "\n",
    "blob_service_client = BlobServiceClient.from_connection_string(\n",
    "    \"CONN_STR\"\n",
    ")"
   ]
  },
  {
   "cell_type": "code",
   "execution_count": null,
   "metadata": {
    "application/vnd.databricks.v1+cell": {
     "cellMetadata": {
      "byteLimit": 2048000,
      "rowLimit": 10000
     },
     "inputWidgets": {},
     "nuid": "8250b768-36d4-4122-a309-4654da546a0b",
     "showTitle": false,
     "title": ""
    }
   },
   "outputs": [],
   "source": [
    "blob_client = blob_service_client.get_blob_client(\"raw\", \"df_mg.csv\")\n",
    "df_mg = pd.read_csv(io.StringIO(blob_client.download_blob().content_as_text()))\n",
    "df_mg"
   ]
  },
  {
   "cell_type": "code",
   "execution_count": null,
   "metadata": {
    "application/vnd.databricks.v1+cell": {
     "cellMetadata": {
      "byteLimit": 2048000,
      "rowLimit": 10000
     },
     "inputWidgets": {},
     "nuid": "8175ebcc-62d8-43c2-91e2-858e84f66a89",
     "showTitle": false,
     "title": ""
    }
   },
   "outputs": [],
   "source": [
    "blob_client = blob_service_client.get_blob_client(\"raw\", \"df_total.csv\")\n",
    "df_total = pd.read_csv(io.StringIO(blob_client.download_blob().content_as_text()))\n",
    "df_total"
   ]
  },
  {
   "cell_type": "code",
   "execution_count": null,
   "metadata": {
    "application/vnd.databricks.v1+cell": {
     "cellMetadata": {
      "byteLimit": 2048000,
      "rowLimit": 10000
     },
     "inputWidgets": {},
     "nuid": "fcf978b0-05ec-4a1f-8c5a-3f6118f3f6ac",
     "showTitle": false,
     "title": ""
    }
   },
   "outputs": [],
   "source": [
    "df_mg = df_mg[df_mg[\"type\"] == \"/subscriptions\"]\n",
    "df_mg[\"id\"] = df_mg[\"id\"].str.split(\"/\").str.get(2)\n",
    "df_mg[\"mg0\"] = (\n",
    "    df_mg[\"properties.parentDisplayNameChain\"]\n",
    "    .str.split(\", '\")\n",
    "    .str.get(-1)\n",
    "    .str.strip(\"'[]\")\n",
    ")\n",
    "df_mg[[\"Management\", \"mg2\", \"Department\", \"mg4\"]] = (\n",
    "    df_mg[\"mg0\"].astype(str).str.split(\"_\", expand=True)\n",
    ")\n",
    "df_mg = df_mg[df_mg[\"Management\"].isin([\"Cenitex\", \"Customer\", \"Tier\"])]\n",
    "df_mg[\"Department\"].replace(\n",
    "    {np.nan: \"Cenitex\", \"Dev\": \"Cenitex\"}, inplace=True\n",
    ")\n",
    "df_mg[\"Management\"].replace(\n",
    "    {\n",
    "        \"Cenitex\": \"Cenitex Managed\",\n",
    "        \"Customer\": \"Customer Managed\",\n",
    "        \"Tier\": \"T0\",\n",
    "    },\n",
    "    inplace=True,\n",
    ")\n",
    "df_mg = df_mg[[\"id\", \"properties.displayName\", \"Management\", \"Department\"]]\n",
    "df_mg.columns = [\"id\", \"subscriptionName\", \"management\", \"department\"]\n",
    "df_mg.reset_index(drop=True, inplace=True)\n",
    "df_mg"
   ]
  },
  {
   "cell_type": "code",
   "execution_count": null,
   "metadata": {
    "application/vnd.databricks.v1+cell": {
     "cellMetadata": {
      "byteLimit": 2048000,
      "rowLimit": 10000
     },
     "inputWidgets": {},
     "nuid": "f84ce952-ad67-46ec-a503-5b17b3967bd0",
     "showTitle": false,
     "title": ""
    }
   },
   "outputs": [],
   "source": [
    "df_total[\"id\"] = df_total[\"id\"].str.split(\"/\").str.get(2)\n",
    "df = pd.merge(\n",
    "    left=df_total,\n",
    "    right=df_mg,\n",
    "    left_on=\"id\",\n",
    "    right_on=\"id\",\n",
    "    how=\"left\",\n",
    "    indicator=False,\n",
    ")\n",
    "df.replace(\n",
    "    {\"australiasoutheast\": \"Melbourne\", \"australiaeast\": \"Sydney\"}, inplace=True\n",
    ")\n",
    "df[\"vCores\"] = (\n",
    "    df[\"properties.hardwareProfile.vmSize\"]\n",
    "    .apply(\n",
    "        lambda cores: \"\".join(c for c in cores.split(\"_\")[1] if c.isnumeric())\n",
    "    )\n",
    "    .astype(int)\n",
    ")\n",
    "df = df[\n",
    "    [\n",
    "        \"name\",\n",
    "        \"subscriptionName\",\n",
    "        \"management\",\n",
    "        \"department\",\n",
    "        \"location\",\n",
    "        \"properties.storageProfile.osDisk.osType\",\n",
    "        \"properties.hardwareProfile.vmSize\",\n",
    "        \"vCores\",\n",
    "        \"properties.licenseType\",\n",
    "        \"properties.storageProfile.osDisk.createOption\",\n",
    "        \"properties.storageProfile.imageReference.publisher\",\n",
    "        \"properties.storageProfile.imageReference.offer\",\n",
    "        \"plan.name\",\n",
    "    ]\n",
    "]\n",
    "df.columns = [\n",
    "    \"Name\",\n",
    "    \"Subscription\",\n",
    "    \"management\",\n",
    "    \"department\",\n",
    "    \"Location\",\n",
    "    \"Operating System\",\n",
    "    \"Size\",\n",
    "    \"vCores\",\n",
    "    \"Os Licensing Benefit\",\n",
    "    \"Source\",\n",
    "    \"Publisher\",\n",
    "    \"Offer\",\n",
    "    \"Plan\",\n",
    "]\n",
    "df.reset_index(drop=True, inplace=True)\n",
    "df"
   ]
  }
 ],
 "metadata": {
  "application/vnd.databricks.v1+notebook": {
   "dashboards": [],
   "language": "python",
   "notebookMetadata": {
    "pythonIndentUnit": 4
   },
   "notebookName": "Databricks Notebook",
   "notebookOrigID": 3390894241412231,
   "widgets": {}
  },
  "language_info": {
   "name": "python"
  }
 },
 "nbformat": 4,
 "nbformat_minor": 0
}
